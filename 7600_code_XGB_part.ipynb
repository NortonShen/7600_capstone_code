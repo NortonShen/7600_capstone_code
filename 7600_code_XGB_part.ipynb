{
 "cells": [
  {
   "cell_type": "code",
   "id": "7dd364ec-3703-42c3-95d4-946ec8d041d2",
   "metadata": {
    "ExecuteTime": {
     "end_time": "2024-08-23T16:38:54.394374Z",
     "start_time": "2024-08-23T16:38:53.853880Z"
    }
   },
   "source": [
    "import numpy as np\n",
    "import pandas as pd\n",
    "import matplotlib.pyplot as plt\n",
    "from sklearn.model_selection import train_test_split\n",
    "from sklearn.metrics import mean_squared_error, mean_absolute_error, r2_score\n",
    "from sklearn.inspection import permutation_importance\n",
    "\n",
    "import shap\n",
    "import category_encoders as ce\n",
    "import xgboost as xgb"
   ],
   "outputs": [
    {
     "name": "stderr",
     "output_type": "stream",
     "text": [
      "C:\\Users\\83995\\.conda\\envs\\capstone\\lib\\site-packages\\tqdm\\auto.py:21: TqdmWarning: IProgress not found. Please update jupyter and ipywidgets. See https://ipywidgets.readthedocs.io/en/stable/user_install.html\n",
      "  from .autonotebook import tqdm as notebook_tqdm\n"
     ]
    }
   ],
   "execution_count": 2
  },
  {
   "cell_type": "code",
   "id": "555c393a-8134-4905-b200-6e8cd9cc2b80",
   "metadata": {
    "ExecuteTime": {
     "end_time": "2024-08-23T16:38:56.984363Z",
     "start_time": "2024-08-23T16:38:56.935703Z"
    }
   },
   "source": [
    "df_nasdaq = pd.read_csv('df_nasdaq.csv')\n",
    "df_sp500 = pd.read_csv('df_sp500.csv')\n",
    "df_dji = pd.read_csv('df_dji.csv')"
   ],
   "outputs": [],
   "execution_count": 3
  },
  {
   "cell_type": "code",
   "id": "2c2173ec-ab25-4b47-9d70-bb60f6529847",
   "metadata": {
    "ExecuteTime": {
     "end_time": "2024-08-23T16:38:58.136219Z",
     "start_time": "2024-08-23T16:38:58.120169Z"
    }
   },
   "source": [
    "target = 'Close'\n",
    "y = df_nasdaq[target]\n",
    "X = df_nasdaq.drop(columns=[target, 'Date'])\n",
    "\n",
    "X_train, X_test, y_train, y_test = train_test_split(X, y, test_size=.3, random_state=7600)"
   ],
   "outputs": [],
   "execution_count": 4
  },
  {
   "cell_type": "code",
   "id": "ada52597-f760-4c32-8469-cbbf46041df9",
   "metadata": {
    "ExecuteTime": {
     "end_time": "2024-08-23T16:39:02.152863Z",
     "start_time": "2024-08-23T16:39:02.141856Z"
    }
   },
   "source": [
    "encoder = ce.LeaveOneOutEncoder(return_df=True)\n",
    "X_train_loo = encoder.fit_transform(X_train, y_train)\n",
    "X_test_loo = encoder.transform(X_test)"
   ],
   "outputs": [
    {
     "name": "stdout",
     "output_type": "stream",
     "text": [
      "Warning: No categorical columns found. Calling 'transform' will only return input data.\n"
     ]
    }
   ],
   "execution_count": 5
  },
  {
   "cell_type": "code",
   "id": "c4cc5a7e-f339-4821-b28b-f8ee57837b3e",
   "metadata": {
    "ExecuteTime": {
     "end_time": "2024-08-23T16:39:05.847455Z",
     "start_time": "2024-08-23T16:39:05.816120Z"
    }
   },
   "source": [
    "X_train_loo"
   ],
   "outputs": [
    {
     "data": {
      "text/plain": [
       "              Open          High           Low     Adj Close      Volume  \\\n",
       "851   12239.690430  12426.259766  12181.129883  12390.690430  4907410000   \n",
       "726   13436.709961  13771.910156  13236.559570  13770.570312  4971930000   \n",
       "647   14289.450195  14509.549805  14259.070312  14501.910156  4465910000   \n",
       "1215  14877.700195  14998.200195  14842.700195  14969.650391  4404590000   \n",
       "252    7610.390137   7875.930176   7219.089844   7874.879883  4701070000   \n",
       "...            ...           ...           ...           ...         ...   \n",
       "1224  15560.610352  15629.070312  15468.910156  15481.919922  4983210000   \n",
       "288    8809.660156   8909.959961   8781.309570   8809.120117  3933550000   \n",
       "48     7749.799805   7786.330078   7738.350098   7750.839844  1884660000   \n",
       "494   13406.160156  13596.589844  13362.660156  13588.830078  5079530000   \n",
       "762   13866.429688  14141.070312  13857.290039  14108.820312  5445100000   \n",
       "\n",
       "      DailyReturn         MA_10         MA_20         MA_50       EMA_100  \\\n",
       "851      0.018754  11879.551172  11622.631543  11531.976641  12281.457868   \n",
       "726      0.031289  13972.374023  14601.631982  15181.703984  14976.939727   \n",
       "647      0.004717  14633.553125  14829.359082  14886.182793  14521.456101   \n",
       "1215     0.007534  14826.931934  14841.476953  14293.804453  14023.482203   \n",
       "252      0.093460   8329.221924   8810.119995   9123.018584   8797.109874   \n",
       "...           ...           ...           ...           ...           ...   \n",
       "1224     0.003629  15134.734082  14986.079004  14625.255020  14211.293997   \n",
       "288      0.011298   8689.158008   8506.556030   8126.682012   8450.534809   \n",
       "48      -0.004480   7798.445947   7939.377979   7882.827773   7592.319676   \n",
       "494      0.030054  13624.963965  13729.974951  13319.155781  12674.252408   \n",
       "762      0.019537  13365.160938  13368.554004  13830.898379  14270.258539   \n",
       "\n",
       "           EMA_200  Volatility_bbh  Volatility_bbl        MACD        RSI  \\\n",
       "851   12956.955388    12328.769217    10916.493869  173.858046  64.318067   \n",
       "726   14568.946806    16134.381091    13068.882874 -498.325257  34.425290   \n",
       "647   13839.277715    15442.716056    14216.002108 -149.679109  41.058222   \n",
       "1215  13520.885609    15223.896674    14459.057232  136.126334  61.489919   \n",
       "252    8478.515103    10247.940657     7372.299333 -403.687093  38.670169   \n",
       "...            ...             ...             ...         ...        ...   \n",
       "1224  13661.817729    15533.325230    14438.832778  212.864908  72.562656   \n",
       "288    8352.327620     9051.192540     7961.919521  203.636092  58.422750   \n",
       "48     7291.132923     8273.439454     7605.316503  -46.382425  42.662068   \n",
       "494   11712.165779    14306.692851    13153.257052   27.991893  51.312170   \n",
       "762   14284.605300    14220.521754    12516.586254  -43.975505  58.189092   \n",
       "\n",
       "             ATR           OBV  \n",
       "851   296.728536  411712150000  \n",
       "726   394.798215  429650920000  \n",
       "647   217.283304  390441150000  \n",
       "1215  172.050037  472940510000  \n",
       "252   356.778392   98206720000  \n",
       "...          ...           ...  \n",
       "1224  176.292854  498215740000  \n",
       "288   253.335282  103386200000  \n",
       "48    116.346361   49841190000  \n",
       "494   273.155260  352128320000  \n",
       "762   377.890485  423004460000  \n",
       "\n",
       "[960 rows x 17 columns]"
      ],
      "text/html": [
       "<div>\n",
       "<style scoped>\n",
       "    .dataframe tbody tr th:only-of-type {\n",
       "        vertical-align: middle;\n",
       "    }\n",
       "\n",
       "    .dataframe tbody tr th {\n",
       "        vertical-align: top;\n",
       "    }\n",
       "\n",
       "    .dataframe thead th {\n",
       "        text-align: right;\n",
       "    }\n",
       "</style>\n",
       "<table border=\"1\" class=\"dataframe\">\n",
       "  <thead>\n",
       "    <tr style=\"text-align: right;\">\n",
       "      <th></th>\n",
       "      <th>Open</th>\n",
       "      <th>High</th>\n",
       "      <th>Low</th>\n",
       "      <th>Adj Close</th>\n",
       "      <th>Volume</th>\n",
       "      <th>DailyReturn</th>\n",
       "      <th>MA_10</th>\n",
       "      <th>MA_20</th>\n",
       "      <th>MA_50</th>\n",
       "      <th>EMA_100</th>\n",
       "      <th>EMA_200</th>\n",
       "      <th>Volatility_bbh</th>\n",
       "      <th>Volatility_bbl</th>\n",
       "      <th>MACD</th>\n",
       "      <th>RSI</th>\n",
       "      <th>ATR</th>\n",
       "      <th>OBV</th>\n",
       "    </tr>\n",
       "  </thead>\n",
       "  <tbody>\n",
       "    <tr>\n",
       "      <th>851</th>\n",
       "      <td>12239.690430</td>\n",
       "      <td>12426.259766</td>\n",
       "      <td>12181.129883</td>\n",
       "      <td>12390.690430</td>\n",
       "      <td>4907410000</td>\n",
       "      <td>0.018754</td>\n",
       "      <td>11879.551172</td>\n",
       "      <td>11622.631543</td>\n",
       "      <td>11531.976641</td>\n",
       "      <td>12281.457868</td>\n",
       "      <td>12956.955388</td>\n",
       "      <td>12328.769217</td>\n",
       "      <td>10916.493869</td>\n",
       "      <td>173.858046</td>\n",
       "      <td>64.318067</td>\n",
       "      <td>296.728536</td>\n",
       "      <td>411712150000</td>\n",
       "    </tr>\n",
       "    <tr>\n",
       "      <th>726</th>\n",
       "      <td>13436.709961</td>\n",
       "      <td>13771.910156</td>\n",
       "      <td>13236.559570</td>\n",
       "      <td>13770.570312</td>\n",
       "      <td>4971930000</td>\n",
       "      <td>0.031289</td>\n",
       "      <td>13972.374023</td>\n",
       "      <td>14601.631982</td>\n",
       "      <td>15181.703984</td>\n",
       "      <td>14976.939727</td>\n",
       "      <td>14568.946806</td>\n",
       "      <td>16134.381091</td>\n",
       "      <td>13068.882874</td>\n",
       "      <td>-498.325257</td>\n",
       "      <td>34.425290</td>\n",
       "      <td>394.798215</td>\n",
       "      <td>429650920000</td>\n",
       "    </tr>\n",
       "    <tr>\n",
       "      <th>647</th>\n",
       "      <td>14289.450195</td>\n",
       "      <td>14509.549805</td>\n",
       "      <td>14259.070312</td>\n",
       "      <td>14501.910156</td>\n",
       "      <td>4465910000</td>\n",
       "      <td>0.004717</td>\n",
       "      <td>14633.553125</td>\n",
       "      <td>14829.359082</td>\n",
       "      <td>14886.182793</td>\n",
       "      <td>14521.456101</td>\n",
       "      <td>13839.277715</td>\n",
       "      <td>15442.716056</td>\n",
       "      <td>14216.002108</td>\n",
       "      <td>-149.679109</td>\n",
       "      <td>41.058222</td>\n",
       "      <td>217.283304</td>\n",
       "      <td>390441150000</td>\n",
       "    </tr>\n",
       "    <tr>\n",
       "      <th>1215</th>\n",
       "      <td>14877.700195</td>\n",
       "      <td>14998.200195</td>\n",
       "      <td>14842.700195</td>\n",
       "      <td>14969.650391</td>\n",
       "      <td>4404590000</td>\n",
       "      <td>0.007534</td>\n",
       "      <td>14826.931934</td>\n",
       "      <td>14841.476953</td>\n",
       "      <td>14293.804453</td>\n",
       "      <td>14023.482203</td>\n",
       "      <td>13520.885609</td>\n",
       "      <td>15223.896674</td>\n",
       "      <td>14459.057232</td>\n",
       "      <td>136.126334</td>\n",
       "      <td>61.489919</td>\n",
       "      <td>172.050037</td>\n",
       "      <td>472940510000</td>\n",
       "    </tr>\n",
       "    <tr>\n",
       "      <th>252</th>\n",
       "      <td>7610.390137</td>\n",
       "      <td>7875.930176</td>\n",
       "      <td>7219.089844</td>\n",
       "      <td>7874.879883</td>\n",
       "      <td>4701070000</td>\n",
       "      <td>0.093460</td>\n",
       "      <td>8329.221924</td>\n",
       "      <td>8810.119995</td>\n",
       "      <td>9123.018584</td>\n",
       "      <td>8797.109874</td>\n",
       "      <td>8478.515103</td>\n",
       "      <td>10247.940657</td>\n",
       "      <td>7372.299333</td>\n",
       "      <td>-403.687093</td>\n",
       "      <td>38.670169</td>\n",
       "      <td>356.778392</td>\n",
       "      <td>98206720000</td>\n",
       "    </tr>\n",
       "    <tr>\n",
       "      <th>...</th>\n",
       "      <td>...</td>\n",
       "      <td>...</td>\n",
       "      <td>...</td>\n",
       "      <td>...</td>\n",
       "      <td>...</td>\n",
       "      <td>...</td>\n",
       "      <td>...</td>\n",
       "      <td>...</td>\n",
       "      <td>...</td>\n",
       "      <td>...</td>\n",
       "      <td>...</td>\n",
       "      <td>...</td>\n",
       "      <td>...</td>\n",
       "      <td>...</td>\n",
       "      <td>...</td>\n",
       "      <td>...</td>\n",
       "      <td>...</td>\n",
       "    </tr>\n",
       "    <tr>\n",
       "      <th>1224</th>\n",
       "      <td>15560.610352</td>\n",
       "      <td>15629.070312</td>\n",
       "      <td>15468.910156</td>\n",
       "      <td>15481.919922</td>\n",
       "      <td>4983210000</td>\n",
       "      <td>0.003629</td>\n",
       "      <td>15134.734082</td>\n",
       "      <td>14986.079004</td>\n",
       "      <td>14625.255020</td>\n",
       "      <td>14211.293997</td>\n",
       "      <td>13661.817729</td>\n",
       "      <td>15533.325230</td>\n",
       "      <td>14438.832778</td>\n",
       "      <td>212.864908</td>\n",
       "      <td>72.562656</td>\n",
       "      <td>176.292854</td>\n",
       "      <td>498215740000</td>\n",
       "    </tr>\n",
       "    <tr>\n",
       "      <th>288</th>\n",
       "      <td>8809.660156</td>\n",
       "      <td>8909.959961</td>\n",
       "      <td>8781.309570</td>\n",
       "      <td>8809.120117</td>\n",
       "      <td>3933550000</td>\n",
       "      <td>0.011298</td>\n",
       "      <td>8689.158008</td>\n",
       "      <td>8506.556030</td>\n",
       "      <td>8126.682012</td>\n",
       "      <td>8450.534809</td>\n",
       "      <td>8352.327620</td>\n",
       "      <td>9051.192540</td>\n",
       "      <td>7961.919521</td>\n",
       "      <td>203.636092</td>\n",
       "      <td>58.422750</td>\n",
       "      <td>253.335282</td>\n",
       "      <td>103386200000</td>\n",
       "    </tr>\n",
       "    <tr>\n",
       "      <th>48</th>\n",
       "      <td>7749.799805</td>\n",
       "      <td>7786.330078</td>\n",
       "      <td>7738.350098</td>\n",
       "      <td>7750.839844</td>\n",
       "      <td>1884660000</td>\n",
       "      <td>-0.004480</td>\n",
       "      <td>7798.445947</td>\n",
       "      <td>7939.377979</td>\n",
       "      <td>7882.827773</td>\n",
       "      <td>7592.319676</td>\n",
       "      <td>7291.132923</td>\n",
       "      <td>8273.439454</td>\n",
       "      <td>7605.316503</td>\n",
       "      <td>-46.382425</td>\n",
       "      <td>42.662068</td>\n",
       "      <td>116.346361</td>\n",
       "      <td>49841190000</td>\n",
       "    </tr>\n",
       "    <tr>\n",
       "      <th>494</th>\n",
       "      <td>13406.160156</td>\n",
       "      <td>13596.589844</td>\n",
       "      <td>13362.660156</td>\n",
       "      <td>13588.830078</td>\n",
       "      <td>5079530000</td>\n",
       "      <td>0.030054</td>\n",
       "      <td>13624.963965</td>\n",
       "      <td>13729.974951</td>\n",
       "      <td>13319.155781</td>\n",
       "      <td>12674.252408</td>\n",
       "      <td>11712.165779</td>\n",
       "      <td>14306.692851</td>\n",
       "      <td>13153.257052</td>\n",
       "      <td>27.991893</td>\n",
       "      <td>51.312170</td>\n",
       "      <td>273.155260</td>\n",
       "      <td>352128320000</td>\n",
       "    </tr>\n",
       "    <tr>\n",
       "      <th>762</th>\n",
       "      <td>13866.429688</td>\n",
       "      <td>14141.070312</td>\n",
       "      <td>13857.290039</td>\n",
       "      <td>14108.820312</td>\n",
       "      <td>5445100000</td>\n",
       "      <td>0.019537</td>\n",
       "      <td>13365.160938</td>\n",
       "      <td>13368.554004</td>\n",
       "      <td>13830.898379</td>\n",
       "      <td>14270.258539</td>\n",
       "      <td>14284.605300</td>\n",
       "      <td>14220.521754</td>\n",
       "      <td>12516.586254</td>\n",
       "      <td>-43.975505</td>\n",
       "      <td>58.189092</td>\n",
       "      <td>377.890485</td>\n",
       "      <td>423004460000</td>\n",
       "    </tr>\n",
       "  </tbody>\n",
       "</table>\n",
       "<p>960 rows × 17 columns</p>\n",
       "</div>"
      ]
     },
     "execution_count": 6,
     "metadata": {},
     "output_type": "execute_result"
    }
   ],
   "execution_count": 6
  },
  {
   "cell_type": "code",
   "id": "3564c390-d9d6-429f-96e5-ec5107958a82",
   "metadata": {
    "ExecuteTime": {
     "end_time": "2024-08-23T16:39:13.219552Z",
     "start_time": "2024-08-23T16:39:12.157945Z"
    }
   },
   "source": [
    "model = xgb.XGBRegressor(n_estimators=500, max_depth=5, eta=0.05)\n",
    "model.fit(X_train_loo, y_train)\n",
    "\n",
    "rmse = np.sqrt(mean_squared_error(y_test, model.predict(np.ascontiguousarray(X_test_loo))))\n",
    "rmse"
   ],
   "outputs": [
    {
     "data": {
      "text/plain": [
       "30.75168732874618"
      ]
     },
     "execution_count": 7,
     "metadata": {},
     "output_type": "execute_result"
    }
   ],
   "execution_count": 7
  },
  {
   "cell_type": "code",
   "id": "ec239915-64c3-45e2-9447-651a7813061d",
   "metadata": {
    "ExecuteTime": {
     "end_time": "2024-08-23T16:39:17.204891Z",
     "start_time": "2024-08-23T16:39:16.802699Z"
    }
   },
   "source": [
    "feature_importance = model.feature_importances_\n",
    "sorted_idx = np.argsort(feature_importance)\n",
    "fig = plt.figure(figsize=(12, 6))\n",
    "plt.barh(range(len(sorted_idx)), feature_importance[sorted_idx], align='center')\n",
    "plt.yticks(range(len(sorted_idx)), np.array(X_test.columns)[sorted_idx])\n",
    "plt.title('Feature Importance')"
   ],
   "outputs": [
    {
     "data": {
      "text/plain": [
       "Text(0.5, 1.0, 'Feature Importance')"
      ]
     },
     "execution_count": 8,
     "metadata": {},
     "output_type": "execute_result"
    },
    {
     "data": {
      "text/plain": [
       "<Figure size 1200x600 with 1 Axes>"
      ],
      "image/png": "[encoded data removed]"
     },
     "metadata": {},
     "output_type": "display_data"
    }
   ],
   "execution_count": 8
  },
  {
   "cell_type": "code",
   "id": "8fba1194-c7f2-4f4d-87bb-568c39393d24",
   "metadata": {
    "ExecuteTime": {
     "end_time": "2024-08-23T16:39:25.144747Z",
     "start_time": "2024-08-23T16:39:24.670907Z"
    }
   },
   "source": [
    "explainer = shap.Explainer(model)\n",
    "shap_values = explainer(np.ascontiguousarray(X_test_loo))\n",
    "shap_importance = shap_values.abs.mean(0).values\n",
    "sorted_idx = shap_importance.argsort()\n",
    "fig = plt.figure(figsize=(12, 6))\n",
    "plt.barh(range(len(sorted_idx)), shap_importance[sorted_idx], align='center')\n",
    "plt.yticks(range(len(sorted_idx)), np.array(X_test.columns)[sorted_idx])\n",
    "plt.title('SHAP Importance')"
   ],
   "outputs": [
    {
     "data": {
      "text/plain": [
       "Text(0.5, 1.0, 'SHAP Importance')"
      ]
     },
     "execution_count": 9,
     "metadata": {},
     "output_type": "execute_result"
    },
    {
     "data": {
      "text/plain": [
       "<Figure size 1200x600 with 1 Axes>"
      ],
      "image/png": "[encoded data removed]"
     },
     "metadata": {},
     "output_type": "display_data"
    }
   ],
   "execution_count": 9
  },
  {
   "cell_type": "code",
   "execution_count": null,
   "id": "3fe0ce9d-0e3b-407d-8740-35a4f67e1fd0",
   "metadata": {},
   "outputs": [],
   "source": []
  }
 ],
 "metadata": {
  "kernelspec": {
   "display_name": "Python 3 (ipykernel)",
   "language": "python",
   "name": "python3"
  },
  "language_info": {
   "codemirror_mode": {
    "name": "ipython",
    "version": 3
   },
   "file_extension": ".py",
   "mimetype": "text/x-python",
   "name": "python",
   "nbconvert_exporter": "python",
   "pygments_lexer": "ipython3",
   "version": "3.8.10"
  }
 },
 "nbformat": 4,
 "nbformat_minor": 5
}
